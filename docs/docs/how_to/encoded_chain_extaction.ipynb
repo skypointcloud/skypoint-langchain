{
 "cells": [
  {
   "cell_type": "markdown",
   "metadata": {},
   "source": [
    "# Encoded Chain Extract Document Compressor\n",
    "\n",
    "The `LLMEncodedChainExtractor` is an optimized version of the `LLMChainExtractor` which uses an encoding technique to fetch only the indices of the relevant sequence instead of having the LLM regenerate the sequence verbatim.\n",
    "\n",
    "This results in *~2X* faster compression and completion tokens which are orders of magnitude less.\n",
    "\n",
    "The code snippet below performs this comparison on a sample document."
   ]
  },
  {
   "cell_type": "code",
   "execution_count": 4,
   "metadata": {},
   "outputs": [],
   "source": [
    "from time import time\n",
    "\n",
    "from langchain.callbacks import get_openai_callback\n",
    "from langchain.llms import OpenAI\n",
    "from langchain.retrievers.document_compressors import (\n",
    "    LLMChainExtractor,\n",
    "    LLMEncodedChainExtractor,\n",
    ")\n",
    "from langchain.schema import Document"
   ]
  },
  {
   "cell_type": "code",
   "execution_count": 5,
   "metadata": {},
   "outputs": [],
   "source": [
    "# Setup\n",
    "chain_extract_compressor = LLMChainExtractor.from_llm(OpenAI())\n",
    "encoded_chain_extract_compressor = LLMEncodedChainExtractor.from_llm(OpenAI(), pipeline=\"sentencizer\")\n",
    "texts = [\n",
    "    \"The Roman Empire followed the Roman Republic.\",\n",
    "    \"I love chocolate chip cookies—my mother makes great cookies.\",\n",
    "    \"The first Roman emperor was Caesar Augustus.\",\n",
    "    \"Don't you just love Caesar salad?\",\n",
    "    \"The Roman Empire collapsed in 476 AD after the fall of Rome.\",\n",
    "    \"Let's go to Olive Garden!\",\n",
    "]\n",
    "\n",
    "doc = Document(page_content=\" \".join(texts))"
   ]
  },
  {
   "cell_type": "code",
   "execution_count": null,
   "metadata": {},
   "outputs": [],
   "source": [
    "# Benchmark LLMChainExtractor\n",
    "chain_extract_total_time = 0\n",
    "chain_extract_total_tokens = 0\n",
    "for _ in range(10):\n",
    "    with get_openai_callback() as cb:\n",
    "        start = time()\n",
    "        chain_extract_compressor.compress_documents(\n",
    "            [doc], \"Tell me about the Roman Empire\"\n",
    "        )\n",
    "        chain_extract_total_time += time() - start\n",
    "        chain_extract_total_tokens += cb.completion_tokens"
   ]
  },
  {
   "cell_type": "code",
   "execution_count": 7,
   "metadata": {},
   "outputs": [],
   "source": [
    "# Benchmark LLMEncodedChainExtractor\n",
    "encoded_chain_extract_total_time = 0\n",
    "encoded_chain_extract_total_tokens = 0\n",
    "for _ in range(10):\n",
    "    with get_openai_callback() as cb:\n",
    "        start = time()\n",
    "        encoded_chain_extract_compressor.compress_documents(\n",
    "            [doc], \"Tell me about the Roman Empire\"\n",
    "        )\n",
    "        encoded_chain_extract_total_time += time() - start\n",
    "        encoded_chain_extract_total_tokens += cb.completion_tokens"
   ]
  },
  {
   "cell_type": "code",
   "execution_count": 8,
   "metadata": {},
   "outputs": [
    {
     "name": "stdout",
     "output_type": "stream",
     "text": [
      "LLMChainExtractor: 1.0736155033111572 seconds,          30.3 tokens\n",
      "LLMEncodedChainExtractor: 0.48770740032196047 seconds,          5.0 tokens\n"
     ]
    }
   ],
   "source": [
    "# Print results\n",
    "print(\n",
    "    f\"LLMChainExtractor: {chain_extract_total_time/10} seconds,\\\n",
    "          {chain_extract_total_tokens/10} tokens\"\n",
    ")\n",
    "print(\n",
    "    f\"LLMEncodedChainExtractor: {encoded_chain_extract_total_time/10} seconds,\\\n",
    "          {encoded_chain_extract_total_tokens/10} tokens\"\n",
    ")"
   ]
  },
  {
   "cell_type": "code",
   "execution_count": null,
   "metadata": {},
   "outputs": [],
   "source": []
  }
 ],
 "metadata": {
  "kernelspec": {
   "display_name": "skypoint-dev",
   "language": "python",
   "name": "python3"
  },
  "language_info": {
   "codemirror_mode": {
    "name": "ipython",
    "version": 3
   },
   "file_extension": ".py",
   "mimetype": "text/x-python",
   "name": "python",
   "nbconvert_exporter": "python",
   "pygments_lexer": "ipython3",
   "version": "3.11.0"
  }
 },
 "nbformat": 4,
 "nbformat_minor": 2
}
